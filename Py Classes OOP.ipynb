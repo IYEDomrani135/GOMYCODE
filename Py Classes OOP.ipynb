{
 "cells": [
  {
   "cell_type": "code",
   "execution_count": 1,
   "id": "f5172513",
   "metadata": {},
   "outputs": [
    {
     "name": "stdout",
     "output_type": "stream",
     "text": [
      "x = 1\n",
      "y = 2\n",
      "z = 3\n",
      "123\n",
      "Height: 10\n",
      "Lenght: 5\n",
      "Area =  50\n",
      "Perimeter =  30\n",
      "Radius: 10\n",
      "Area =  314.1592653589793\n",
      "Perimeter =  62.83185307179586\n",
      "Current balance: 0\n",
      "Deposit balance: 50\n",
      "Balance: 50\n",
      "Withdraw balance: 25\n",
      "Balance: 25\n"
     ]
    }
   ],
   "source": [
    "class Point3D:\n",
    "    def __init__(self, x, y, z):\n",
    "        self.x = x\n",
    "        self.y = y\n",
    "        self.z = z\n",
    "\n",
    "    def return_items(self):\n",
    "        return f\"{self.x}{self.y}{self.z}\"\n",
    "    \n",
    "my_point = Point3D(int(input(\"x = \")),int(input(\"y = \")),int(input(\"z = \")))\n",
    "print(my_point.return_items())\n",
    "\n",
    "class Rectangle:\n",
    "    def __init__(self, height, lenght):\n",
    "        self.height = height\n",
    "        self.lenght = lenght\n",
    "    def area(self):\n",
    "        return self.height*self.lenght\n",
    "    def perimeter(self):\n",
    "        return 2*(self.height+self.lenght)\n",
    "    \n",
    "my_rectangle = Rectangle(int(input(\"Height: \")), int(input(\"Lenght: \")))\n",
    "\n",
    "print(\"Area = \", my_rectangle.area())\n",
    "print(\"Perimeter = \", my_rectangle.perimeter())\n",
    "\n",
    "class Circle:\n",
    "    def __init__(self, center, radius):\n",
    "        self.center = center\n",
    "        self.radius = radius\n",
    "    def area(self):\n",
    "        return 3.141592653589793*self.radius*self.radius\n",
    "    def perimeter(self):\n",
    "        return 2*3.141592653589793*self.radius\n",
    "    \n",
    "my_circle = Circle(0, int(input(\"Radius: \")))\n",
    "\n",
    "print(\"Area = \", my_circle.area())\n",
    "print(\"Perimeter = \", my_circle.perimeter())\n",
    "\n",
    "class Bank:\n",
    "    def __init__(self, balance):\n",
    "        self.balance = balance\n",
    "    def deposit(self, deposit):\n",
    "        if deposit > 0:\n",
    "            self.balance += deposit\n",
    "        else:\n",
    "            print(\"Deposit amount must be greater than 0.\")\n",
    "    def Withdraw(self, Withdraw):\n",
    "        if Withdraw > 0:\n",
    "            self.balance -= Withdraw\n",
    "        else:\n",
    "            print(\"Withdraw amount must be greater than 0.\")\n",
    "    def get_balance(self):\n",
    "        return self.balance\n",
    "\n",
    "My_balance = Bank(int(input(\"Current balance: \")))\n",
    "My_balance.deposit(int(input(\"Deposit balance: \")))\n",
    "print(\"Balance:\", My_balance.get_balance())\n",
    "\n",
    "My_balance.Withdraw(int(input(\"Withdraw balance: \")))\n",
    "print(\"Balance:\", My_balance.get_balance())"
   ]
  },
  {
   "cell_type": "code",
   "execution_count": null,
   "id": "fe427610",
   "metadata": {},
   "outputs": [],
   "source": []
  }
 ],
 "metadata": {
  "kernelspec": {
   "display_name": "Python 3 (ipykernel)",
   "language": "python",
   "name": "python3"
  },
  "language_info": {
   "codemirror_mode": {
    "name": "ipython",
    "version": 3
   },
   "file_extension": ".py",
   "mimetype": "text/x-python",
   "name": "python",
   "nbconvert_exporter": "python",
   "pygments_lexer": "ipython3",
   "version": "3.11.3"
  }
 },
 "nbformat": 4,
 "nbformat_minor": 5
}
