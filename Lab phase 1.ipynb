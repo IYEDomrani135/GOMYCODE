{
 "cells": [
  {
   "cell_type": "code",
   "execution_count": 1,
   "id": "a73e2839",
   "metadata": {},
   "outputs": [],
   "source": [
    "from tkinter import *\n",
    "import random\n",
    "window = Tk()\n",
    "window.title(\"Rock Paper Scissors\")\n",
    "window.geometry(\"500x110\")\n",
    "window.resizable(width=False, height=False)\n",
    "window.configure(bg=\"black\")\n",
    "\n",
    "L1 = Label(text=\"Rock Paper Scissors\", bg=\"black\", fg=\"white\")\n",
    "L1.place(x=210, y=0)\n",
    "\n",
    "L2 = Label(text=\"Choose between rock, paper, or scissors.\", bg=\"black\", fg=\"white\")\n",
    "L2.place(x=2, y=30)\n",
    "\n",
    "user_move = Entry(window)\n",
    "user_move.place(x= 5, y= 60)\n",
    "user_pick = user_move.get()\n",
    "\n",
    "def click():\n",
    "    user_pick = user_move.get()\n",
    "    L3 = Label(text=f\"Chose {user_pick}\", bg=\"black\", fg=\"green\")\n",
    "    L3.place(x=2, y=90)\n",
    "    \n",
    "    Moves = [\"rock\", \"paper\", \"scissors\"]\n",
    "    comp_pick = random.choice(Moves)\n",
    "    L3 = Label(text=f\"Chose {comp_pick}\", width=10 ,bg=\"black\", fg=\"orange\")\n",
    "    L3.place(x=410, y=90)\n",
    "\n",
    "submit = Button(text=\"Submit move\", command= click)\n",
    "submit.place(x=150, y=58, width=100, height= 25)\n",
    "\n",
    "\n",
    "window.mainloop()"
   ]
  },
  {
   "cell_type": "code",
   "execution_count": null,
   "id": "61b07183",
   "metadata": {},
   "outputs": [],
   "source": []
  }
 ],
 "metadata": {
  "kernelspec": {
   "display_name": "Python 3 (ipykernel)",
   "language": "python",
   "name": "python3"
  },
  "language_info": {
   "codemirror_mode": {
    "name": "ipython",
    "version": 3
   },
   "file_extension": ".py",
   "mimetype": "text/x-python",
   "name": "python",
   "nbconvert_exporter": "python",
   "pygments_lexer": "ipython3",
   "version": "3.11.3"
  }
 },
 "nbformat": 4,
 "nbformat_minor": 5
}
