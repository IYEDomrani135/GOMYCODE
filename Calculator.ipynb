{
 "cells": [
  {
   "cell_type": "code",
   "execution_count": null,
   "id": "4176751e",
   "metadata": {},
   "outputs": [
    {
     "name": "stdout",
     "output_type": "stream",
     "text": [
      "Enter the first number: 12\n",
      "Enter the second number: 45\n",
      "Enter the operator (+, -, *, /): /\n",
      "12 / 45 = 0.26666666666666666\n",
      "---------------------------------------------------------------\n",
      "Enter the first number: 34\n",
      "Enter the second number: 98\n",
      "Enter the operator (+, -, *, /): +\n",
      "34 + 98 = 132\n",
      "---------------------------------------------------------------\n"
     ]
    }
   ],
   "source": [
    "def sep():\n",
    "    print(\"---------------------------------------------------------------\")\n",
    "\n",
    "while True:\n",
    "    try:\n",
    "        Value1 = int(input(\"Enter the first number: \"))\n",
    "        Value2 = int(input(\"Enter the second number: \"))\n",
    "        operator = input(\"Enter the operator (+, -, *, /): \")\n",
    "        if operator == '+':\n",
    "            result = Value1 + Value2\n",
    "            print(Value1, \"+\", Value2, \"=\", result)\n",
    "            sep()\n",
    "            continue\n",
    "        elif operator == '-':\n",
    "            result = Value1 - Value2\n",
    "            print(Value1, \"-\", Value2, \"=\", result)\n",
    "            sep()\n",
    "            continue\n",
    "        elif operator == '*':\n",
    "            result = Value1 * Value2\n",
    "            print(Value1, \"*\", Value2, \"=\", result)\n",
    "            sep()\n",
    "            continue\n",
    "        elif operator == '/':\n",
    "            result = Value1 / Value2\n",
    "            print(Value1, \"/\", Value2, \"=\", result)\n",
    "            sep()\n",
    "            continue\n",
    "        else:\n",
    "            print(\"Please choose a correct operator\")\n",
    "            sep()\n",
    "            continue\n",
    "    except:\n",
    "        print(\"Please type a numeral number\")\n",
    "        continue"
   ]
  },
  {
   "cell_type": "code",
   "execution_count": null,
   "id": "d1962bdb",
   "metadata": {},
   "outputs": [],
   "source": []
  }
 ],
 "metadata": {
  "kernelspec": {
   "display_name": "Python 3 (ipykernel)",
   "language": "python",
   "name": "python3"
  },
  "language_info": {
   "codemirror_mode": {
    "name": "ipython",
    "version": 3
   },
   "file_extension": ".py",
   "mimetype": "text/x-python",
   "name": "python",
   "nbconvert_exporter": "python",
   "pygments_lexer": "ipython3",
   "version": "3.11.3"
  }
 },
 "nbformat": 4,
 "nbformat_minor": 5
}
