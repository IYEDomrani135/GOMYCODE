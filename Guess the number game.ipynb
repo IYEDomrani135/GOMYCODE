import random
print("Welcome to the Guess the Number game!")
print("I'm thinking of a number between 1 and 100. Can you guess what it is?")
random_num = random.randint(1, 100)
guess = input("Enter your guess: ")
guess_int = int(guess)
# loop until the player guesses right
while guess_int != random_num:
    # the guess is greater than the number
    if guess_int > random_num:
        print("Your guess is too high. Guess again.")
        guess = input("Enter your guess: ")
        guess_int = int(guess)
    # the guess is less than the number
    elif guess_int < random_num:
        print("Your guess is too low. Guess again.")
        guess = input("Enter your guess: ")
        guess_int = int(guess)
# the number is guessed
print("Congratulations! You guessed the number correctly!")
