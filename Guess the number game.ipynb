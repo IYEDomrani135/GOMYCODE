{
 "cells": [
  {
   "cell_type": "code",
   "execution_count": 1,
   "id": "779cde2a",
   "metadata": {},
   "outputs": [
    {
     "name": "stdout",
     "output_type": "stream",
     "text": [
      "Welcome to the Guess the Number game!\n",
      "I'm thinking of a number between 1 and 100. Can you guess what it is?\n",
      "Enter your guess: 12\n",
      "Your guess is too low. Guess again.\n",
      "Enter your guess: 55\n",
      "Your guess is too low. Guess again.\n",
      "Enter your guess: 90\n",
      "Your guess is too high. Guess again.\n",
      "Enter your guess: 87\n",
      "Your guess is too high. Guess again.\n",
      "Enter your guess: 67\n",
      "Your guess is too low. Guess again.\n",
      "Enter your guess: 70\n",
      "Your guess is too low. Guess again.\n",
      "Enter your guess: 77\n",
      "Your guess is too high. Guess again.\n",
      "Enter your guess: 75\n",
      "Your guess is too low. Guess again.\n",
      "Enter your guess: 76\n",
      "Congratulations! You guessed the number correctly!\n"
     ]
    }
   ],
   "source": [
    "import random\n",
    "print(\"Welcome to the Guess the Number game!\")\n",
    "print(\"I'm thinking of a number between 1 and 100. Can you guess what it is?\")\n",
    "random_num = random.randint(1, 100)\n",
    "guess = input(\"Enter your guess: \")\n",
    "guess_int = int(guess)\n",
    "while guess_int != random_num:\n",
    "    if guess_int > random_num:\n",
    "        print(\"Your guess is too high. Guess again.\")\n",
    "        guess = input(\"Enter your guess: \")\n",
    "        guess_int = int(guess)\n",
    "    elif guess_int < random_num:\n",
    "        print(\"Your guess is too low. Guess again.\")\n",
    "        guess = input(\"Enter your guess: \")\n",
    "        guess_int = int(guess)\n",
    "print(\"Congratulations! You guessed the number correctly!\")"
   ]
  },
  {
   "cell_type": "code",
   "execution_count": null,
   "id": "8fd8d1e8",
   "metadata": {},
   "outputs": [],
   "source": []
  }
 ],
 "metadata": {
  "kernelspec": {
   "display_name": "Python 3 (ipykernel)",
   "language": "python",
   "name": "python3"
  },
  "language_info": {
   "codemirror_mode": {
    "name": "ipython",
    "version": 3
   },
   "file_extension": ".py",
   "mimetype": "text/x-python",
   "name": "python",
   "nbconvert_exporter": "python",
   "pygments_lexer": "ipython3",
   "version": "3.11.3"
  }
 },
 "nbformat": 4,
 "nbformat_minor": 5
}
