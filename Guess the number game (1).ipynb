{
 "cells": [
  {
   "cell_type": "code",
   "execution_count": 4,
   "id": "cde62f34",
   "metadata": {},
   "outputs": [
    {
     "name": "stdout",
     "output_type": "stream",
     "text": [
      "Welcome to the Guess the Number game!\n",
      "I'm thinking of a number between 1 and 100. Can you guess what it is?\n",
      "Enter your guess: 50\n",
      "Your guess is too low. Guess again.\n",
      "Enter your guess: 90\n",
      "Your guess is too high. Guess again.\n",
      "Enter your guess: 70\n",
      "Your guess is too high. Guess again.\n",
      "Enter your guess: 60\n",
      "Your guess is too low. Guess again.\n",
      "Enter your guess: 65\n",
      "Your guess is too high. Guess again.\n",
      "Enter your guess: 63\n",
      "Your guess is too high. Guess again.\n",
      "Enter your guess: 62\n",
      "Your guess is too high. Guess again.\n",
      "Enter your guess: 61\n",
      "Congratulations! You guessed the number correctly!\n"
     ]
    }
   ],
   "source": [
    "import random\n",
    "print(\"Welcome to the Guess the Number game!\")\n",
    "print(\"I'm thinking of a number between 1 and 100. Can you guess what it is?\")\n",
    "random_num = random.randint(1, 100)\n",
    "guess = input(\"Enter your guess: \")\n",
    "guess_int = int(guess)\n",
    "# loop until the player guesses right\n",
    "while guess_int != random_num:\n",
    "    # the guess is greater than the number\n",
    "    if guess_int > random_num:\n",
    "        print(\"Your guess is too high. Guess again.\")\n",
    "        guess = input(\"Enter your guess: \")\n",
    "        guess_int = int(guess)\n",
    "    # the guess is less than the number\n",
    "    elif guess_int < random_num:\n",
    "        print(\"Your guess is too low. Guess again.\")\n",
    "        guess = input(\"Enter your guess: \")\n",
    "        guess_int = int(guess)\n",
    "# the number is guessed\n",
    "print(\"Congratulations! You guessed the number correctly!\")"
   ]
  },
  {
   "cell_type": "code",
   "execution_count": null,
   "id": "f0e6afc0",
   "metadata": {},
   "outputs": [],
   "source": []
  },
  {
   "cell_type": "code",
   "execution_count": null,
   "id": "bdb97f1d",
   "metadata": {},
   "outputs": [],
   "source": []
  }
 ],
 "metadata": {
  "kernelspec": {
   "display_name": "Python 3 (ipykernel)",
   "language": "python",
   "name": "python3"
  },
  "language_info": {
   "codemirror_mode": {
    "name": "ipython",
    "version": 3
   },
   "file_extension": ".py",
   "mimetype": "text/x-python",
   "name": "python",
   "nbconvert_exporter": "python",
   "pygments_lexer": "ipython3",
   "version": "3.11.3"
  }
 },
 "nbformat": 4,
 "nbformat_minor": 5
}
