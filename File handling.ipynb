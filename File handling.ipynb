{
 "cells": [
  {
   "cell_type": "code",
   "execution_count": 9,
   "id": "35fe57bc",
   "metadata": {},
   "outputs": [
    {
     "name": "stdout",
     "output_type": "stream",
     "text": [
      "What is Python language?                                                \n",
      "Python is a widely used high-level, general-purpose, interpreted, dynamic programming language.Its design philosophy emphasizes code readability, and its syntax allows programmers to express concepts in fewer lines of code than possible in \n",
      "languages such as C++ or Java. \n",
      "Python supports multiple programming paradigms, including object-oriented, imperative and functional programming or procedural styles. It features a dynamic type system and automatic memory management and has a large and comprehensive standard library.The best way we learn anything is by practice and exercise questions. We  have started this section for those (beginner to intermediate) who are familiar with Python.\n",
      "--------------------------------------------------\n",
      "read the first 2\n",
      "What is Python language?                                                \n",
      "\n",
      "Python is a widely used high-level, general-purpose, interpreted, dynamic programming language.Its design philosophy emphasizes code readability, and its syntax allows programmers to express concepts in fewer lines of code than possible in \n",
      "\n",
      "--------------------------------------------------\n",
      "read the last 2\n",
      "languages such as C++ or Java. \n",
      "\n",
      "Python supports multiple programming paradigms, including object-oriented, imperative and functional programming or procedural styles. It features a dynamic type system and automatic memory management and has a large and comprehensive standard library.The best way we learn anything is by practice and exercise questions. We  have started this section for those (beginner to intermediate) who are familiar with Python.\n",
      "--------------------------------------------------\n",
      "Please type a file's path: python.txt\n",
      "In the file, there is 764 words\n"
     ]
    }
   ],
   "source": [
    "def sep():\n",
    "    print('-'*50)\n",
    "#1\n",
    "file = open('python.txt','r')\n",
    "content = file.read()\n",
    "print(content)\n",
    "file.close()\n",
    "sep()\n",
    "#2\n",
    "file = open('python.txt','r')\n",
    "n = int(input(\"read the first \"))\n",
    "for line in range(n):\n",
    "    line = file.readline()\n",
    "    print(line)\n",
    "file.close()\n",
    "sep()\n",
    "#3\n",
    "file = open('python.txt','r')\n",
    "n = int(input(\"read the last \"))\n",
    "lines = file.readlines()\n",
    "for line in lines[-n:]:\n",
    "    print(line)\n",
    "file.close()\n",
    "sep()\n",
    "#4\n",
    "file_inp = input(\"Please type a file's path: \")\n",
    "file = open(file_inp, 'r')\n",
    "words_count = 0\n",
    "\n",
    "for line in file:\n",
    "    words = line.split()\n",
    "    for words in line:\n",
    "        words_count += 1\n",
    "print(f\"In the file, there is {words_count} words\")"
   ]
  },
  {
   "cell_type": "code",
   "execution_count": null,
   "id": "0507703b",
   "metadata": {},
   "outputs": [],
   "source": []
  },
  {
   "cell_type": "code",
   "execution_count": null,
   "id": "90fadf80",
   "metadata": {},
   "outputs": [],
   "source": []
  }
 ],
 "metadata": {
  "kernelspec": {
   "display_name": "Python 3 (ipykernel)",
   "language": "python",
   "name": "python3"
  },
  "language_info": {
   "codemirror_mode": {
    "name": "ipython",
    "version": 3
   },
   "file_extension": ".py",
   "mimetype": "text/x-python",
   "name": "python",
   "nbconvert_exporter": "python",
   "pygments_lexer": "ipython3",
   "version": "3.11.3"
  }
 },
 "nbformat": 4,
 "nbformat_minor": 5
}
