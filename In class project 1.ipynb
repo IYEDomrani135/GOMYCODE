{
 "cells": [
  {
   "cell_type": "code",
   "execution_count": null,
   "id": "82af80a0",
   "metadata": {},
   "outputs": [],
   "source": [
    "# + - / * // ** % \n",
    "while True:\n",
    "    value1 = int(input(\"Value1: \"))\n",
    "    value2 = int(input(\"Value2: \"))\n",
    "    op1 = value1 + value2\n",
    "    op2 = value1 - value2\n",
    "    op3 = value2 - value1\n",
    "    op4 = value1 / value2\n",
    "    op5 = value2 / value1\n",
    "    op6 = value1 * value2\n",
    "    op7 = value1 // value2\n",
    "    op8 = value2 // value1\n",
    "    op9 = value1 ** value2\n",
    "    op10 = value2 ** value1\n",
    "    op11 = value1 % value2   \n",
    "    op12 = value2 % value1\n",
    "    print(value1, \"+\", value2, \"=\", op1)\n",
    "    print(value1, \"-\", value2, \"=\", op2)\n",
    "    print(value2, \"-\", value1, \"=\", op3)\n",
    "    print(value1, \"/\", value2, \"=\", op4)\n",
    "    print(value2, \"/\", value1, \"=\", op5)\n",
    "    print(value1, \"*\", value2, \"=\", op6)\n",
    "    print(value1, \"//\", value2, \"=\", op7)\n",
    "    print(value2, \"//\", value1, \"=\", op8)\n",
    "    print(value1, \"**\", value2, \"=\", op9)\n",
    "    print(value2, \"**\", value1, \"=\", op10)\n",
    "    print(value1, \"%\", value2, \"=\", op11)\n",
    "    print(value2, \"%\", value1, \"=\", op12)"
   ]
  }
 ],
 "metadata": {
  "kernelspec": {
   "display_name": "Python 3 (ipykernel)",
   "language": "python",
   "name": "python3"
  },
  "language_info": {
   "codemirror_mode": {
    "name": "ipython",
    "version": 3
   },
   "file_extension": ".py",
   "mimetype": "text/x-python",
   "name": "python",
   "nbconvert_exporter": "python",
   "pygments_lexer": "ipython3",
   "version": "3.11.3"
  }
 },
 "nbformat": 4,
 "nbformat_minor": 5
}
