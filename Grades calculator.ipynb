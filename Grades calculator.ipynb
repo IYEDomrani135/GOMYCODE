{
 "cells": [
  {
   "cell_type": "code",
   "execution_count": 1,
   "id": "f4942cd0",
   "metadata": {},
   "outputs": [
    {
     "name": "stdout",
     "output_type": "stream",
     "text": [
      "Enter the number of students: 3\n",
      "Enter the number of subjects: 5\n",
      "------------------------------------------------------------\n",
      "Enter marks for student 1:\n",
      "------------------------------------------------------------\n",
      "Subject 1: 90\n",
      "Subject 2: 78\n",
      "Subject 3: 69\n",
      "Subject 4: 87\n",
      "Subject 5: 77\n",
      "Enter marks for student 2:\n",
      "------------------------------------------------------------\n",
      "Subject 1: 25\n",
      "Subject 2: 30\n",
      "Subject 3: 40\n",
      "Subject 4: 15\n",
      "Subject 5: 10\n",
      "Enter marks for student 3:\n",
      "------------------------------------------------------------\n",
      "Subject 1: 90\n",
      "Subject 2: 98\n",
      "Subject 3: 89\n",
      "Subject 4: 80\n",
      "Subject 5: 95\n",
      "\n",
      "Student\tTotal Marks\tPercentage\tGrade\n",
      "------------------------------------------------------------\n",
      "Student 1\t401.0\t\t80.20%\t\tA\n",
      "Student 2\t120.0\t\t24.00%\t\tF\n",
      "Student 3\t452.0\t\t90.40%\t\tA+\n"
     ]
    }
   ],
   "source": [
    "import numpy as np\n",
    "def sep():\n",
    "    print(\"-\"*60)\n",
    "    \n",
    "num_students = int(input(\"Enter the number of students: \"))\n",
    "num_subjects = int(input(\"Enter the number of subjects: \"))\n",
    "sep()\n",
    "\n",
    "marks_array = np.zeros((num_students, num_subjects))\n",
    "for i in range(num_students):\n",
    "    print(f\"Enter marks for student {i+1}:\")\n",
    "    sep()\n",
    "    for j in range(num_subjects):\n",
    "        marks_array[i, j] = float(input(f\"Subject {j+1}: \"))\n",
    "total_grade = np.sum(marks_array, axis=1)\n",
    "percentages = (total_grade / (num_subjects * 100)) * 100\n",
    "def calculate_grade(percentage):\n",
    "    if percentage >= 90:\n",
    "        return \"A+\"\n",
    "    elif percentage >= 80:\n",
    "        return \"A\"\n",
    "    elif percentage >= 70:\n",
    "        return \"B+\"\n",
    "    elif percentage >= 60:\n",
    "        return \"B\"\n",
    "    elif percentage >= 50:\n",
    "        return \"C\"\n",
    "    else:\n",
    "        return \"F\"\n",
    "grades = [calculate_grade(percentage) for percentage in percentages]\n",
    "print(\"\\nStudent\\tTotal Marks\\tPercentage\\tGrade\")\n",
    "sep()\n",
    "for i in range(num_students):\n",
    "    print(f\"Student {i+1}\\t{total_grade[i]}\\t\\t{percentages[i]:.2f}%\\t\\t{grades[i]}\")"
   ]
  },
  {
   "cell_type": "code",
   "execution_count": null,
   "id": "393f2ca3",
   "metadata": {},
   "outputs": [],
   "source": []
  }
 ],
 "metadata": {
  "kernelspec": {
   "display_name": "Python 3 (ipykernel)",
   "language": "python",
   "name": "python3"
  },
  "language_info": {
   "codemirror_mode": {
    "name": "ipython",
    "version": 3
   },
   "file_extension": ".py",
   "mimetype": "text/x-python",
   "name": "python",
   "nbconvert_exporter": "python",
   "pygments_lexer": "ipython3",
   "version": "3.11.3"
  }
 },
 "nbformat": 4,
 "nbformat_minor": 5
}
